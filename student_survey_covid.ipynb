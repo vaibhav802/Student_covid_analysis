{
 "cells": [
  {
   "cell_type": "markdown",
   "metadata": {},
   "source": [
    "# Covid 19 survey student responses"
   ]
  },
  {
   "cell_type": "markdown",
   "metadata": {},
   "source": [
    "### This dataset contains the details of people that what they do during covid 19. "
   ]
  },
  {
   "cell_type": "markdown",
   "metadata": {},
   "source": [
    "For making ouself on the track lets note down some of the basic steps that we are going to follow while performing the EDA(Exploratory data analysis)\n",
    "\n",
    "     --> Load the dataset\n",
    "     --> Understand the data, its type and missing value in the data set\n",
    "     --> Clean the dataset and handle the missing value from the dataset\n",
    "     --> perform the Data Visualization\n",
    "           > perform the data Normalizaton where ever seems to require\n",
    "           > perform the Feature Engineering to make data more understandable and extract the possible  \n",
    "             new information from the dataset\n",
    "     --> create the final summary report from the information we gather while performing EDA"
   ]
  },
  {
   "cell_type": "code",
   "execution_count": 1,
   "metadata": {},
   "outputs": [],
   "source": [
    "# import modules\n",
    "import pandas as pd\n",
    "import numpy as np\n",
    "import matplotlib.pyplot as plt"
   ]
  },
  {
   "cell_type": "markdown",
   "metadata": {},
   "source": [
    "### Load the Dataset\n",
    "\n",
    "\n",
    "In this section we load the dataset and take the basic understanding from the dataset"
   ]
  },
  {
   "cell_type": "code",
   "execution_count": 2,
   "metadata": {},
   "outputs": [],
   "source": [
    "student = pd.read_csv('COVID-19 Survey Student Responses.csv')"
   ]
  },
  {
   "cell_type": "code",
   "execution_count": 3,
   "metadata": {},
   "outputs": [
    {
     "data": {
      "text/html": [
       "<div>\n",
       "<style scoped>\n",
       "    .dataframe tbody tr th:only-of-type {\n",
       "        vertical-align: middle;\n",
       "    }\n",
       "\n",
       "    .dataframe tbody tr th {\n",
       "        vertical-align: top;\n",
       "    }\n",
       "\n",
       "    .dataframe thead th {\n",
       "        text-align: right;\n",
       "    }\n",
       "</style>\n",
       "<table border=\"1\" class=\"dataframe\">\n",
       "  <thead>\n",
       "    <tr style=\"text-align: right;\">\n",
       "      <th></th>\n",
       "      <th>ID</th>\n",
       "      <th>Region of residence</th>\n",
       "      <th>Age of Subject</th>\n",
       "      <th>Time spent on Online Class</th>\n",
       "      <th>Rating of Online Class experience</th>\n",
       "      <th>Medium for online class</th>\n",
       "      <th>Time spent on self study</th>\n",
       "      <th>Time spent on fitness</th>\n",
       "      <th>Time spent on sleep</th>\n",
       "      <th>Time spent on social media</th>\n",
       "      <th>Prefered social media platform</th>\n",
       "      <th>Time spent on TV</th>\n",
       "      <th>Number of meals per day</th>\n",
       "      <th>Change in your weight</th>\n",
       "      <th>Health issue during lockdown</th>\n",
       "      <th>Stress busters</th>\n",
       "      <th>Time utilized</th>\n",
       "      <th>Do you find yourself more connected with your family, close friends , relatives  ?</th>\n",
       "      <th>What you miss the most</th>\n",
       "    </tr>\n",
       "  </thead>\n",
       "  <tbody>\n",
       "    <tr>\n",
       "      <th>0</th>\n",
       "      <td>R1</td>\n",
       "      <td>Delhi-NCR</td>\n",
       "      <td>21</td>\n",
       "      <td>2.0</td>\n",
       "      <td>Good</td>\n",
       "      <td>Laptop/Desktop</td>\n",
       "      <td>4.0</td>\n",
       "      <td>0.0</td>\n",
       "      <td>7.0</td>\n",
       "      <td>3.0</td>\n",
       "      <td>Linkedin</td>\n",
       "      <td>1</td>\n",
       "      <td>4</td>\n",
       "      <td>Increased</td>\n",
       "      <td>NO</td>\n",
       "      <td>Cooking</td>\n",
       "      <td>YES</td>\n",
       "      <td>YES</td>\n",
       "      <td>School/college</td>\n",
       "    </tr>\n",
       "    <tr>\n",
       "      <th>1</th>\n",
       "      <td>R2</td>\n",
       "      <td>Delhi-NCR</td>\n",
       "      <td>21</td>\n",
       "      <td>0.0</td>\n",
       "      <td>Excellent</td>\n",
       "      <td>Smartphone</td>\n",
       "      <td>0.0</td>\n",
       "      <td>2.0</td>\n",
       "      <td>10.0</td>\n",
       "      <td>3.0</td>\n",
       "      <td>Youtube</td>\n",
       "      <td>0</td>\n",
       "      <td>3</td>\n",
       "      <td>Decreased</td>\n",
       "      <td>NO</td>\n",
       "      <td>Scrolling through social media</td>\n",
       "      <td>YES</td>\n",
       "      <td>NO</td>\n",
       "      <td>Roaming around freely</td>\n",
       "    </tr>\n",
       "    <tr>\n",
       "      <th>2</th>\n",
       "      <td>R3</td>\n",
       "      <td>Delhi-NCR</td>\n",
       "      <td>20</td>\n",
       "      <td>7.0</td>\n",
       "      <td>Very poor</td>\n",
       "      <td>Laptop/Desktop</td>\n",
       "      <td>3.0</td>\n",
       "      <td>0.0</td>\n",
       "      <td>6.0</td>\n",
       "      <td>2.0</td>\n",
       "      <td>Linkedin</td>\n",
       "      <td>0</td>\n",
       "      <td>3</td>\n",
       "      <td>Remain Constant</td>\n",
       "      <td>NO</td>\n",
       "      <td>Listening to music</td>\n",
       "      <td>NO</td>\n",
       "      <td>YES</td>\n",
       "      <td>Travelling</td>\n",
       "    </tr>\n",
       "    <tr>\n",
       "      <th>3</th>\n",
       "      <td>R4</td>\n",
       "      <td>Delhi-NCR</td>\n",
       "      <td>20</td>\n",
       "      <td>3.0</td>\n",
       "      <td>Very poor</td>\n",
       "      <td>Smartphone</td>\n",
       "      <td>2.0</td>\n",
       "      <td>1.0</td>\n",
       "      <td>6.0</td>\n",
       "      <td>5.0</td>\n",
       "      <td>Instagram</td>\n",
       "      <td>0</td>\n",
       "      <td>3</td>\n",
       "      <td>Decreased</td>\n",
       "      <td>NO</td>\n",
       "      <td>Watching web series</td>\n",
       "      <td>NO</td>\n",
       "      <td>NO</td>\n",
       "      <td>Friends , relatives</td>\n",
       "    </tr>\n",
       "    <tr>\n",
       "      <th>4</th>\n",
       "      <td>R5</td>\n",
       "      <td>Delhi-NCR</td>\n",
       "      <td>21</td>\n",
       "      <td>3.0</td>\n",
       "      <td>Good</td>\n",
       "      <td>Laptop/Desktop</td>\n",
       "      <td>3.0</td>\n",
       "      <td>1.0</td>\n",
       "      <td>8.0</td>\n",
       "      <td>3.0</td>\n",
       "      <td>Instagram</td>\n",
       "      <td>1</td>\n",
       "      <td>4</td>\n",
       "      <td>Remain Constant</td>\n",
       "      <td>NO</td>\n",
       "      <td>Social Media</td>\n",
       "      <td>NO</td>\n",
       "      <td>NO</td>\n",
       "      <td>Travelling</td>\n",
       "    </tr>\n",
       "    <tr>\n",
       "      <th>...</th>\n",
       "      <td>...</td>\n",
       "      <td>...</td>\n",
       "      <td>...</td>\n",
       "      <td>...</td>\n",
       "      <td>...</td>\n",
       "      <td>...</td>\n",
       "      <td>...</td>\n",
       "      <td>...</td>\n",
       "      <td>...</td>\n",
       "      <td>...</td>\n",
       "      <td>...</td>\n",
       "      <td>...</td>\n",
       "      <td>...</td>\n",
       "      <td>...</td>\n",
       "      <td>...</td>\n",
       "      <td>...</td>\n",
       "      <td>...</td>\n",
       "      <td>...</td>\n",
       "      <td>...</td>\n",
       "    </tr>\n",
       "    <tr>\n",
       "      <th>1177</th>\n",
       "      <td>R1191</td>\n",
       "      <td>Delhi-NCR</td>\n",
       "      <td>12</td>\n",
       "      <td>3.0</td>\n",
       "      <td>Good</td>\n",
       "      <td>Smartphone</td>\n",
       "      <td>4.0</td>\n",
       "      <td>1.0</td>\n",
       "      <td>8.0</td>\n",
       "      <td>1.0</td>\n",
       "      <td>Instagram</td>\n",
       "      <td>2</td>\n",
       "      <td>3</td>\n",
       "      <td>Decreased</td>\n",
       "      <td>NO</td>\n",
       "      <td>Dancing</td>\n",
       "      <td>YES</td>\n",
       "      <td>YES</td>\n",
       "      <td>Travelling</td>\n",
       "    </tr>\n",
       "    <tr>\n",
       "      <th>1178</th>\n",
       "      <td>R1192</td>\n",
       "      <td>Delhi-NCR</td>\n",
       "      <td>14</td>\n",
       "      <td>6.0</td>\n",
       "      <td>Average</td>\n",
       "      <td>Smartphone</td>\n",
       "      <td>4.0</td>\n",
       "      <td>1.0</td>\n",
       "      <td>9.0</td>\n",
       "      <td>1.0</td>\n",
       "      <td>Whatsapp</td>\n",
       "      <td>1</td>\n",
       "      <td>4</td>\n",
       "      <td>Remain Constant</td>\n",
       "      <td>NO</td>\n",
       "      <td>Listening to music</td>\n",
       "      <td>YES</td>\n",
       "      <td>YES</td>\n",
       "      <td>Friends , relatives</td>\n",
       "    </tr>\n",
       "    <tr>\n",
       "      <th>1179</th>\n",
       "      <td>R1193</td>\n",
       "      <td>Delhi-NCR</td>\n",
       "      <td>13</td>\n",
       "      <td>4.0</td>\n",
       "      <td>Average</td>\n",
       "      <td>Smartphone</td>\n",
       "      <td>0.0</td>\n",
       "      <td>0.5</td>\n",
       "      <td>8.0</td>\n",
       "      <td>3.0</td>\n",
       "      <td>Youtube</td>\n",
       "      <td>2</td>\n",
       "      <td>4</td>\n",
       "      <td>Decreased</td>\n",
       "      <td>NO</td>\n",
       "      <td>Online gaming</td>\n",
       "      <td>NO</td>\n",
       "      <td>YES</td>\n",
       "      <td>School/college</td>\n",
       "    </tr>\n",
       "    <tr>\n",
       "      <th>1180</th>\n",
       "      <td>R1194</td>\n",
       "      <td>Delhi-NCR</td>\n",
       "      <td>14</td>\n",
       "      <td>5.0</td>\n",
       "      <td>Excellent</td>\n",
       "      <td>Laptop/Desktop</td>\n",
       "      <td>3.5</td>\n",
       "      <td>1.0</td>\n",
       "      <td>8.0</td>\n",
       "      <td>0.5</td>\n",
       "      <td>Youtube</td>\n",
       "      <td>1</td>\n",
       "      <td>4</td>\n",
       "      <td>Remain Constant</td>\n",
       "      <td>NO</td>\n",
       "      <td>Reading books</td>\n",
       "      <td>YES</td>\n",
       "      <td>YES</td>\n",
       "      <td>School/college</td>\n",
       "    </tr>\n",
       "    <tr>\n",
       "      <th>1181</th>\n",
       "      <td>R1195</td>\n",
       "      <td>Delhi-NCR</td>\n",
       "      <td>13</td>\n",
       "      <td>5.0</td>\n",
       "      <td>Good</td>\n",
       "      <td>Tablet</td>\n",
       "      <td>2.0</td>\n",
       "      <td>0.5</td>\n",
       "      <td>7.0</td>\n",
       "      <td>1.0</td>\n",
       "      <td>Whatsapp</td>\n",
       "      <td>1</td>\n",
       "      <td>3</td>\n",
       "      <td>Remain Constant</td>\n",
       "      <td>NO</td>\n",
       "      <td>Talking</td>\n",
       "      <td>YES</td>\n",
       "      <td>YES</td>\n",
       "      <td>School/college</td>\n",
       "    </tr>\n",
       "  </tbody>\n",
       "</table>\n",
       "<p>1182 rows × 19 columns</p>\n",
       "</div>"
      ],
      "text/plain": [
       "         ID Region of residence  Age of Subject  Time spent on Online Class  \\\n",
       "0        R1           Delhi-NCR              21                         2.0   \n",
       "1        R2           Delhi-NCR              21                         0.0   \n",
       "2        R3           Delhi-NCR              20                         7.0   \n",
       "3        R4           Delhi-NCR              20                         3.0   \n",
       "4        R5           Delhi-NCR              21                         3.0   \n",
       "...     ...                 ...             ...                         ...   \n",
       "1177  R1191           Delhi-NCR              12                         3.0   \n",
       "1178  R1192           Delhi-NCR              14                         6.0   \n",
       "1179  R1193           Delhi-NCR              13                         4.0   \n",
       "1180  R1194           Delhi-NCR              14                         5.0   \n",
       "1181  R1195           Delhi-NCR              13                         5.0   \n",
       "\n",
       "     Rating of Online Class experience Medium for online class  \\\n",
       "0                                 Good          Laptop/Desktop   \n",
       "1                            Excellent              Smartphone   \n",
       "2                            Very poor          Laptop/Desktop   \n",
       "3                            Very poor              Smartphone   \n",
       "4                                 Good          Laptop/Desktop   \n",
       "...                                ...                     ...   \n",
       "1177                              Good              Smartphone   \n",
       "1178                           Average              Smartphone   \n",
       "1179                           Average              Smartphone   \n",
       "1180                         Excellent          Laptop/Desktop   \n",
       "1181                              Good                  Tablet   \n",
       "\n",
       "      Time spent on self study  Time spent on fitness  Time spent on sleep  \\\n",
       "0                          4.0                    0.0                  7.0   \n",
       "1                          0.0                    2.0                 10.0   \n",
       "2                          3.0                    0.0                  6.0   \n",
       "3                          2.0                    1.0                  6.0   \n",
       "4                          3.0                    1.0                  8.0   \n",
       "...                        ...                    ...                  ...   \n",
       "1177                       4.0                    1.0                  8.0   \n",
       "1178                       4.0                    1.0                  9.0   \n",
       "1179                       0.0                    0.5                  8.0   \n",
       "1180                       3.5                    1.0                  8.0   \n",
       "1181                       2.0                    0.5                  7.0   \n",
       "\n",
       "      Time spent on social media Prefered social media platform  \\\n",
       "0                            3.0                       Linkedin   \n",
       "1                            3.0                        Youtube   \n",
       "2                            2.0                       Linkedin   \n",
       "3                            5.0                      Instagram   \n",
       "4                            3.0                      Instagram   \n",
       "...                          ...                            ...   \n",
       "1177                         1.0                      Instagram   \n",
       "1178                         1.0                       Whatsapp   \n",
       "1179                         3.0                        Youtube   \n",
       "1180                         0.5                        Youtube   \n",
       "1181                         1.0                       Whatsapp   \n",
       "\n",
       "     Time spent on TV  Number of meals per day Change in your weight  \\\n",
       "0                   1                        4             Increased   \n",
       "1                   0                        3             Decreased   \n",
       "2                   0                        3       Remain Constant   \n",
       "3                   0                        3             Decreased   \n",
       "4                   1                        4       Remain Constant   \n",
       "...               ...                      ...                   ...   \n",
       "1177                2                        3             Decreased   \n",
       "1178                1                        4       Remain Constant   \n",
       "1179                2                        4             Decreased   \n",
       "1180                1                        4       Remain Constant   \n",
       "1181                1                        3       Remain Constant   \n",
       "\n",
       "     Health issue during lockdown                  Stress busters  \\\n",
       "0                              NO                         Cooking   \n",
       "1                              NO  Scrolling through social media   \n",
       "2                              NO              Listening to music   \n",
       "3                              NO             Watching web series   \n",
       "4                              NO                    Social Media   \n",
       "...                           ...                             ...   \n",
       "1177                           NO                         Dancing   \n",
       "1178                           NO              Listening to music   \n",
       "1179                           NO                   Online gaming   \n",
       "1180                           NO                   Reading books   \n",
       "1181                           NO                         Talking   \n",
       "\n",
       "     Time utilized  \\\n",
       "0              YES   \n",
       "1              YES   \n",
       "2               NO   \n",
       "3               NO   \n",
       "4               NO   \n",
       "...            ...   \n",
       "1177           YES   \n",
       "1178           YES   \n",
       "1179            NO   \n",
       "1180           YES   \n",
       "1181           YES   \n",
       "\n",
       "     Do you find yourself more connected with your family, close friends , relatives  ?  \\\n",
       "0                                                   YES                                   \n",
       "1                                                    NO                                   \n",
       "2                                                   YES                                   \n",
       "3                                                    NO                                   \n",
       "4                                                    NO                                   \n",
       "...                                                 ...                                   \n",
       "1177                                                YES                                   \n",
       "1178                                                YES                                   \n",
       "1179                                                YES                                   \n",
       "1180                                                YES                                   \n",
       "1181                                                YES                                   \n",
       "\n",
       "     What you miss the most  \n",
       "0            School/college  \n",
       "1     Roaming around freely  \n",
       "2                Travelling  \n",
       "3       Friends , relatives  \n",
       "4                Travelling  \n",
       "...                     ...  \n",
       "1177             Travelling  \n",
       "1178    Friends , relatives  \n",
       "1179         School/college  \n",
       "1180         School/college  \n",
       "1181         School/college  \n",
       "\n",
       "[1182 rows x 19 columns]"
      ]
     },
     "execution_count": 3,
     "metadata": {},
     "output_type": "execute_result"
    }
   ],
   "source": [
    "student"
   ]
  },
  {
   "cell_type": "markdown",
   "metadata": {},
   "source": [
    "### shape of data "
   ]
  },
  {
   "cell_type": "code",
   "execution_count": 4,
   "metadata": {},
   "outputs": [
    {
     "data": {
      "text/plain": [
       "(1182, 19)"
      ]
     },
     "execution_count": 4,
     "metadata": {},
     "output_type": "execute_result"
    }
   ],
   "source": [
    "student.shape"
   ]
  },
  {
   "cell_type": "markdown",
   "metadata": {},
   "source": [
    "### Type of data"
   ]
  },
  {
   "cell_type": "code",
   "execution_count": 6,
   "metadata": {},
   "outputs": [
    {
     "name": "stdout",
     "output_type": "stream",
     "text": [
      "<class 'pandas.core.frame.DataFrame'>\n",
      "RangeIndex: 1182 entries, 0 to 1181\n",
      "Data columns (total 19 columns):\n",
      " #   Column                                                                              Non-Null Count  Dtype  \n",
      "---  ------                                                                              --------------  -----  \n",
      " 0   ID                                                                                  1182 non-null   object \n",
      " 1   Region of residence                                                                 1182 non-null   object \n",
      " 2   Age of Subject                                                                      1182 non-null   int64  \n",
      " 3   Time spent on Online Class                                                          1182 non-null   float64\n",
      " 4   Rating of Online Class experience                                                   1158 non-null   object \n",
      " 5   Medium for online class                                                             1131 non-null   object \n",
      " 6   Time spent on self study                                                            1182 non-null   float64\n",
      " 7   Time spent on fitness                                                               1182 non-null   float64\n",
      " 8   Time spent on sleep                                                                 1182 non-null   float64\n",
      " 9   Time spent on social media                                                          1182 non-null   float64\n",
      " 10  Prefered social media platform                                                      1182 non-null   object \n",
      " 11  Time spent on TV                                                                    1182 non-null   object \n",
      " 12  Number of meals per day                                                             1182 non-null   int64  \n",
      " 13  Change in your weight                                                               1182 non-null   object \n",
      " 14  Health issue during lockdown                                                        1182 non-null   object \n",
      " 15  Stress busters                                                                      1182 non-null   object \n",
      " 16  Time utilized                                                                       1182 non-null   object \n",
      " 17  Do you find yourself more connected with your family, close friends , relatives  ?  1182 non-null   object \n",
      " 18  What you miss the most                                                              1182 non-null   object \n",
      "dtypes: float64(5), int64(2), object(12)\n",
      "memory usage: 175.6+ KB\n"
     ]
    }
   ],
   "source": [
    "student.info()"
   ]
  },
  {
   "cell_type": "markdown",
   "metadata": {},
   "source": [
    "### Describe data "
   ]
  },
  {
   "cell_type": "code",
   "execution_count": 7,
   "metadata": {},
   "outputs": [
    {
     "data": {
      "text/html": [
       "<div>\n",
       "<style scoped>\n",
       "    .dataframe tbody tr th:only-of-type {\n",
       "        vertical-align: middle;\n",
       "    }\n",
       "\n",
       "    .dataframe tbody tr th {\n",
       "        vertical-align: top;\n",
       "    }\n",
       "\n",
       "    .dataframe thead th {\n",
       "        text-align: right;\n",
       "    }\n",
       "</style>\n",
       "<table border=\"1\" class=\"dataframe\">\n",
       "  <thead>\n",
       "    <tr style=\"text-align: right;\">\n",
       "      <th></th>\n",
       "      <th>ID</th>\n",
       "      <th>Region of residence</th>\n",
       "      <th>Age of Subject</th>\n",
       "      <th>Time spent on Online Class</th>\n",
       "      <th>Rating of Online Class experience</th>\n",
       "      <th>Medium for online class</th>\n",
       "      <th>Time spent on self study</th>\n",
       "      <th>Time spent on fitness</th>\n",
       "      <th>Time spent on sleep</th>\n",
       "      <th>Time spent on social media</th>\n",
       "      <th>Prefered social media platform</th>\n",
       "      <th>Time spent on TV</th>\n",
       "      <th>Number of meals per day</th>\n",
       "      <th>Change in your weight</th>\n",
       "      <th>Health issue during lockdown</th>\n",
       "      <th>Stress busters</th>\n",
       "      <th>Time utilized</th>\n",
       "      <th>Do you find yourself more connected with your family, close friends , relatives  ?</th>\n",
       "      <th>What you miss the most</th>\n",
       "    </tr>\n",
       "  </thead>\n",
       "  <tbody>\n",
       "    <tr>\n",
       "      <th>count</th>\n",
       "      <td>1182</td>\n",
       "      <td>1182</td>\n",
       "      <td>1182.000000</td>\n",
       "      <td>1182.000000</td>\n",
       "      <td>1158</td>\n",
       "      <td>1131</td>\n",
       "      <td>1182.000000</td>\n",
       "      <td>1182.000000</td>\n",
       "      <td>1182.000000</td>\n",
       "      <td>1182.000000</td>\n",
       "      <td>1182</td>\n",
       "      <td>1182</td>\n",
       "      <td>1182.000000</td>\n",
       "      <td>1182</td>\n",
       "      <td>1182</td>\n",
       "      <td>1182</td>\n",
       "      <td>1182</td>\n",
       "      <td>1182</td>\n",
       "      <td>1182</td>\n",
       "    </tr>\n",
       "    <tr>\n",
       "      <th>unique</th>\n",
       "      <td>1182</td>\n",
       "      <td>2</td>\n",
       "      <td>NaN</td>\n",
       "      <td>NaN</td>\n",
       "      <td>5</td>\n",
       "      <td>5</td>\n",
       "      <td>NaN</td>\n",
       "      <td>NaN</td>\n",
       "      <td>NaN</td>\n",
       "      <td>NaN</td>\n",
       "      <td>16</td>\n",
       "      <td>25</td>\n",
       "      <td>NaN</td>\n",
       "      <td>3</td>\n",
       "      <td>2</td>\n",
       "      <td>86</td>\n",
       "      <td>2</td>\n",
       "      <td>2</td>\n",
       "      <td>51</td>\n",
       "    </tr>\n",
       "    <tr>\n",
       "      <th>top</th>\n",
       "      <td>R1106</td>\n",
       "      <td>Delhi-NCR</td>\n",
       "      <td>NaN</td>\n",
       "      <td>NaN</td>\n",
       "      <td>Very poor</td>\n",
       "      <td>Laptop/Desktop</td>\n",
       "      <td>NaN</td>\n",
       "      <td>NaN</td>\n",
       "      <td>NaN</td>\n",
       "      <td>NaN</td>\n",
       "      <td>Instagram</td>\n",
       "      <td>0</td>\n",
       "      <td>NaN</td>\n",
       "      <td>Remain Constant</td>\n",
       "      <td>NO</td>\n",
       "      <td>Listening to music</td>\n",
       "      <td>NO</td>\n",
       "      <td>YES</td>\n",
       "      <td>School/college</td>\n",
       "    </tr>\n",
       "    <tr>\n",
       "      <th>freq</th>\n",
       "      <td>1</td>\n",
       "      <td>721</td>\n",
       "      <td>NaN</td>\n",
       "      <td>NaN</td>\n",
       "      <td>413</td>\n",
       "      <td>545</td>\n",
       "      <td>NaN</td>\n",
       "      <td>NaN</td>\n",
       "      <td>NaN</td>\n",
       "      <td>NaN</td>\n",
       "      <td>352</td>\n",
       "      <td>441</td>\n",
       "      <td>NaN</td>\n",
       "      <td>535</td>\n",
       "      <td>1021</td>\n",
       "      <td>276</td>\n",
       "      <td>608</td>\n",
       "      <td>831</td>\n",
       "      <td>379</td>\n",
       "    </tr>\n",
       "    <tr>\n",
       "      <th>mean</th>\n",
       "      <td>NaN</td>\n",
       "      <td>NaN</td>\n",
       "      <td>20.165821</td>\n",
       "      <td>3.208841</td>\n",
       "      <td>NaN</td>\n",
       "      <td>NaN</td>\n",
       "      <td>2.911591</td>\n",
       "      <td>0.765821</td>\n",
       "      <td>7.871235</td>\n",
       "      <td>2.365694</td>\n",
       "      <td>NaN</td>\n",
       "      <td>NaN</td>\n",
       "      <td>2.917936</td>\n",
       "      <td>NaN</td>\n",
       "      <td>NaN</td>\n",
       "      <td>NaN</td>\n",
       "      <td>NaN</td>\n",
       "      <td>NaN</td>\n",
       "      <td>NaN</td>\n",
       "    </tr>\n",
       "    <tr>\n",
       "      <th>std</th>\n",
       "      <td>NaN</td>\n",
       "      <td>NaN</td>\n",
       "      <td>5.516467</td>\n",
       "      <td>2.101756</td>\n",
       "      <td>NaN</td>\n",
       "      <td>NaN</td>\n",
       "      <td>2.140590</td>\n",
       "      <td>0.724451</td>\n",
       "      <td>1.615762</td>\n",
       "      <td>1.767336</td>\n",
       "      <td>NaN</td>\n",
       "      <td>NaN</td>\n",
       "      <td>0.828698</td>\n",
       "      <td>NaN</td>\n",
       "      <td>NaN</td>\n",
       "      <td>NaN</td>\n",
       "      <td>NaN</td>\n",
       "      <td>NaN</td>\n",
       "      <td>NaN</td>\n",
       "    </tr>\n",
       "    <tr>\n",
       "      <th>min</th>\n",
       "      <td>NaN</td>\n",
       "      <td>NaN</td>\n",
       "      <td>7.000000</td>\n",
       "      <td>0.000000</td>\n",
       "      <td>NaN</td>\n",
       "      <td>NaN</td>\n",
       "      <td>0.000000</td>\n",
       "      <td>0.000000</td>\n",
       "      <td>4.000000</td>\n",
       "      <td>0.000000</td>\n",
       "      <td>NaN</td>\n",
       "      <td>NaN</td>\n",
       "      <td>1.000000</td>\n",
       "      <td>NaN</td>\n",
       "      <td>NaN</td>\n",
       "      <td>NaN</td>\n",
       "      <td>NaN</td>\n",
       "      <td>NaN</td>\n",
       "      <td>NaN</td>\n",
       "    </tr>\n",
       "    <tr>\n",
       "      <th>25%</th>\n",
       "      <td>NaN</td>\n",
       "      <td>NaN</td>\n",
       "      <td>17.000000</td>\n",
       "      <td>2.000000</td>\n",
       "      <td>NaN</td>\n",
       "      <td>NaN</td>\n",
       "      <td>2.000000</td>\n",
       "      <td>0.000000</td>\n",
       "      <td>7.000000</td>\n",
       "      <td>1.000000</td>\n",
       "      <td>NaN</td>\n",
       "      <td>NaN</td>\n",
       "      <td>2.000000</td>\n",
       "      <td>NaN</td>\n",
       "      <td>NaN</td>\n",
       "      <td>NaN</td>\n",
       "      <td>NaN</td>\n",
       "      <td>NaN</td>\n",
       "      <td>NaN</td>\n",
       "    </tr>\n",
       "    <tr>\n",
       "      <th>50%</th>\n",
       "      <td>NaN</td>\n",
       "      <td>NaN</td>\n",
       "      <td>20.000000</td>\n",
       "      <td>3.000000</td>\n",
       "      <td>NaN</td>\n",
       "      <td>NaN</td>\n",
       "      <td>2.000000</td>\n",
       "      <td>1.000000</td>\n",
       "      <td>8.000000</td>\n",
       "      <td>2.000000</td>\n",
       "      <td>NaN</td>\n",
       "      <td>NaN</td>\n",
       "      <td>3.000000</td>\n",
       "      <td>NaN</td>\n",
       "      <td>NaN</td>\n",
       "      <td>NaN</td>\n",
       "      <td>NaN</td>\n",
       "      <td>NaN</td>\n",
       "      <td>NaN</td>\n",
       "    </tr>\n",
       "    <tr>\n",
       "      <th>75%</th>\n",
       "      <td>NaN</td>\n",
       "      <td>NaN</td>\n",
       "      <td>21.000000</td>\n",
       "      <td>5.000000</td>\n",
       "      <td>NaN</td>\n",
       "      <td>NaN</td>\n",
       "      <td>4.000000</td>\n",
       "      <td>1.000000</td>\n",
       "      <td>9.000000</td>\n",
       "      <td>3.000000</td>\n",
       "      <td>NaN</td>\n",
       "      <td>NaN</td>\n",
       "      <td>3.000000</td>\n",
       "      <td>NaN</td>\n",
       "      <td>NaN</td>\n",
       "      <td>NaN</td>\n",
       "      <td>NaN</td>\n",
       "      <td>NaN</td>\n",
       "      <td>NaN</td>\n",
       "    </tr>\n",
       "    <tr>\n",
       "      <th>max</th>\n",
       "      <td>NaN</td>\n",
       "      <td>NaN</td>\n",
       "      <td>59.000000</td>\n",
       "      <td>10.000000</td>\n",
       "      <td>NaN</td>\n",
       "      <td>NaN</td>\n",
       "      <td>18.000000</td>\n",
       "      <td>5.000000</td>\n",
       "      <td>15.000000</td>\n",
       "      <td>10.000000</td>\n",
       "      <td>NaN</td>\n",
       "      <td>NaN</td>\n",
       "      <td>8.000000</td>\n",
       "      <td>NaN</td>\n",
       "      <td>NaN</td>\n",
       "      <td>NaN</td>\n",
       "      <td>NaN</td>\n",
       "      <td>NaN</td>\n",
       "      <td>NaN</td>\n",
       "    </tr>\n",
       "  </tbody>\n",
       "</table>\n",
       "</div>"
      ],
      "text/plain": [
       "           ID Region of residence  Age of Subject  Time spent on Online Class  \\\n",
       "count    1182                1182     1182.000000                 1182.000000   \n",
       "unique   1182                   2             NaN                         NaN   \n",
       "top     R1106           Delhi-NCR             NaN                         NaN   \n",
       "freq        1                 721             NaN                         NaN   \n",
       "mean      NaN                 NaN       20.165821                    3.208841   \n",
       "std       NaN                 NaN        5.516467                    2.101756   \n",
       "min       NaN                 NaN        7.000000                    0.000000   \n",
       "25%       NaN                 NaN       17.000000                    2.000000   \n",
       "50%       NaN                 NaN       20.000000                    3.000000   \n",
       "75%       NaN                 NaN       21.000000                    5.000000   \n",
       "max       NaN                 NaN       59.000000                   10.000000   \n",
       "\n",
       "       Rating of Online Class experience Medium for online class  \\\n",
       "count                               1158                    1131   \n",
       "unique                                 5                       5   \n",
       "top                            Very poor          Laptop/Desktop   \n",
       "freq                                 413                     545   \n",
       "mean                                 NaN                     NaN   \n",
       "std                                  NaN                     NaN   \n",
       "min                                  NaN                     NaN   \n",
       "25%                                  NaN                     NaN   \n",
       "50%                                  NaN                     NaN   \n",
       "75%                                  NaN                     NaN   \n",
       "max                                  NaN                     NaN   \n",
       "\n",
       "        Time spent on self study  Time spent on fitness  Time spent on sleep  \\\n",
       "count                1182.000000            1182.000000          1182.000000   \n",
       "unique                       NaN                    NaN                  NaN   \n",
       "top                          NaN                    NaN                  NaN   \n",
       "freq                         NaN                    NaN                  NaN   \n",
       "mean                    2.911591               0.765821             7.871235   \n",
       "std                     2.140590               0.724451             1.615762   \n",
       "min                     0.000000               0.000000             4.000000   \n",
       "25%                     2.000000               0.000000             7.000000   \n",
       "50%                     2.000000               1.000000             8.000000   \n",
       "75%                     4.000000               1.000000             9.000000   \n",
       "max                    18.000000               5.000000            15.000000   \n",
       "\n",
       "        Time spent on social media Prefered social media platform  \\\n",
       "count                  1182.000000                           1182   \n",
       "unique                         NaN                             16   \n",
       "top                            NaN                      Instagram   \n",
       "freq                           NaN                            352   \n",
       "mean                      2.365694                            NaN   \n",
       "std                       1.767336                            NaN   \n",
       "min                       0.000000                            NaN   \n",
       "25%                       1.000000                            NaN   \n",
       "50%                       2.000000                            NaN   \n",
       "75%                       3.000000                            NaN   \n",
       "max                      10.000000                            NaN   \n",
       "\n",
       "       Time spent on TV  Number of meals per day Change in your weight  \\\n",
       "count              1182              1182.000000                  1182   \n",
       "unique               25                      NaN                     3   \n",
       "top                   0                      NaN       Remain Constant   \n",
       "freq                441                      NaN                   535   \n",
       "mean                NaN                 2.917936                   NaN   \n",
       "std                 NaN                 0.828698                   NaN   \n",
       "min                 NaN                 1.000000                   NaN   \n",
       "25%                 NaN                 2.000000                   NaN   \n",
       "50%                 NaN                 3.000000                   NaN   \n",
       "75%                 NaN                 3.000000                   NaN   \n",
       "max                 NaN                 8.000000                   NaN   \n",
       "\n",
       "       Health issue during lockdown      Stress busters Time utilized  \\\n",
       "count                          1182                1182          1182   \n",
       "unique                            2                  86             2   \n",
       "top                              NO  Listening to music            NO   \n",
       "freq                           1021                 276           608   \n",
       "mean                            NaN                 NaN           NaN   \n",
       "std                             NaN                 NaN           NaN   \n",
       "min                             NaN                 NaN           NaN   \n",
       "25%                             NaN                 NaN           NaN   \n",
       "50%                             NaN                 NaN           NaN   \n",
       "75%                             NaN                 NaN           NaN   \n",
       "max                             NaN                 NaN           NaN   \n",
       "\n",
       "       Do you find yourself more connected with your family, close friends , relatives  ?  \\\n",
       "count                                                1182                                   \n",
       "unique                                                  2                                   \n",
       "top                                                   YES                                   \n",
       "freq                                                  831                                   \n",
       "mean                                                  NaN                                   \n",
       "std                                                   NaN                                   \n",
       "min                                                   NaN                                   \n",
       "25%                                                   NaN                                   \n",
       "50%                                                   NaN                                   \n",
       "75%                                                   NaN                                   \n",
       "max                                                   NaN                                   \n",
       "\n",
       "       What you miss the most  \n",
       "count                    1182  \n",
       "unique                     51  \n",
       "top            School/college  \n",
       "freq                      379  \n",
       "mean                      NaN  \n",
       "std                       NaN  \n",
       "min                       NaN  \n",
       "25%                       NaN  \n",
       "50%                       NaN  \n",
       "75%                       NaN  \n",
       "max                       NaN  "
      ]
     },
     "execution_count": 7,
     "metadata": {},
     "output_type": "execute_result"
    }
   ],
   "source": [
    "student.describe(include = 'all')"
   ]
  },
  {
   "cell_type": "markdown",
   "metadata": {},
   "source": [
    "#### we can rename the columns as per our convenience if we troubling with them"
   ]
  },
  {
   "cell_type": "code",
   "execution_count": 4,
   "metadata": {},
   "outputs": [],
   "source": [
    "df1 = student.rename(columns = {'Region of residence':'location','Age of Subject':'Age','Time spent on Online Class':'Online Cl.'\n",
    "                           ,'Rating of Online Class experience':'online cl. exp.','Medium for online class':'Medium for cl.'\n",
    "                           ,'Time spent on self study':'self.st','Time spent on fitness':'fitness','Time spent on sleep':'sleep'\n",
    "                          ,'Time spent on social media':'social media','Prefered social media platform':'Social media plat.'\n",
    "                           ,'Time spent on TV':'TV','Number of meals per day':'Meals no.','Change in your weight':'Weight'\n",
    "                          , 'Health issue during lockdown':'Health issue',\"Do you find yourself more connected with your family, close friends , relatives ?\":'Connection'\n",
    "                          ,'What you miss the most':'miss the most'},inplace = False)"
   ]
  },
  {
   "cell_type": "code",
   "execution_count": 5,
   "metadata": {},
   "outputs": [
    {
     "data": {
      "text/html": [
       "<div>\n",
       "<style scoped>\n",
       "    .dataframe tbody tr th:only-of-type {\n",
       "        vertical-align: middle;\n",
       "    }\n",
       "\n",
       "    .dataframe tbody tr th {\n",
       "        vertical-align: top;\n",
       "    }\n",
       "\n",
       "    .dataframe thead th {\n",
       "        text-align: right;\n",
       "    }\n",
       "</style>\n",
       "<table border=\"1\" class=\"dataframe\">\n",
       "  <thead>\n",
       "    <tr style=\"text-align: right;\">\n",
       "      <th></th>\n",
       "      <th>ID</th>\n",
       "      <th>location</th>\n",
       "      <th>Age</th>\n",
       "      <th>Online Cl.</th>\n",
       "      <th>online cl. exp.</th>\n",
       "      <th>Medium for cl.</th>\n",
       "      <th>self.st</th>\n",
       "      <th>fitness</th>\n",
       "      <th>sleep</th>\n",
       "      <th>social media</th>\n",
       "      <th>Social media plat.</th>\n",
       "      <th>TV</th>\n",
       "      <th>Meals no.</th>\n",
       "      <th>Weight</th>\n",
       "      <th>Health issue</th>\n",
       "      <th>Stress busters</th>\n",
       "      <th>Time utilized</th>\n",
       "      <th>Do you find yourself more connected with your family, close friends , relatives  ?</th>\n",
       "      <th>miss the most</th>\n",
       "    </tr>\n",
       "  </thead>\n",
       "  <tbody>\n",
       "    <tr>\n",
       "      <th>0</th>\n",
       "      <td>R1</td>\n",
       "      <td>Delhi-NCR</td>\n",
       "      <td>21</td>\n",
       "      <td>2.0</td>\n",
       "      <td>Good</td>\n",
       "      <td>Laptop/Desktop</td>\n",
       "      <td>4.0</td>\n",
       "      <td>0.0</td>\n",
       "      <td>7.0</td>\n",
       "      <td>3.0</td>\n",
       "      <td>Linkedin</td>\n",
       "      <td>1</td>\n",
       "      <td>4</td>\n",
       "      <td>Increased</td>\n",
       "      <td>NO</td>\n",
       "      <td>Cooking</td>\n",
       "      <td>YES</td>\n",
       "      <td>YES</td>\n",
       "      <td>School/college</td>\n",
       "    </tr>\n",
       "    <tr>\n",
       "      <th>1</th>\n",
       "      <td>R2</td>\n",
       "      <td>Delhi-NCR</td>\n",
       "      <td>21</td>\n",
       "      <td>0.0</td>\n",
       "      <td>Excellent</td>\n",
       "      <td>Smartphone</td>\n",
       "      <td>0.0</td>\n",
       "      <td>2.0</td>\n",
       "      <td>10.0</td>\n",
       "      <td>3.0</td>\n",
       "      <td>Youtube</td>\n",
       "      <td>0</td>\n",
       "      <td>3</td>\n",
       "      <td>Decreased</td>\n",
       "      <td>NO</td>\n",
       "      <td>Scrolling through social media</td>\n",
       "      <td>YES</td>\n",
       "      <td>NO</td>\n",
       "      <td>Roaming around freely</td>\n",
       "    </tr>\n",
       "    <tr>\n",
       "      <th>2</th>\n",
       "      <td>R3</td>\n",
       "      <td>Delhi-NCR</td>\n",
       "      <td>20</td>\n",
       "      <td>7.0</td>\n",
       "      <td>Very poor</td>\n",
       "      <td>Laptop/Desktop</td>\n",
       "      <td>3.0</td>\n",
       "      <td>0.0</td>\n",
       "      <td>6.0</td>\n",
       "      <td>2.0</td>\n",
       "      <td>Linkedin</td>\n",
       "      <td>0</td>\n",
       "      <td>3</td>\n",
       "      <td>Remain Constant</td>\n",
       "      <td>NO</td>\n",
       "      <td>Listening to music</td>\n",
       "      <td>NO</td>\n",
       "      <td>YES</td>\n",
       "      <td>Travelling</td>\n",
       "    </tr>\n",
       "    <tr>\n",
       "      <th>3</th>\n",
       "      <td>R4</td>\n",
       "      <td>Delhi-NCR</td>\n",
       "      <td>20</td>\n",
       "      <td>3.0</td>\n",
       "      <td>Very poor</td>\n",
       "      <td>Smartphone</td>\n",
       "      <td>2.0</td>\n",
       "      <td>1.0</td>\n",
       "      <td>6.0</td>\n",
       "      <td>5.0</td>\n",
       "      <td>Instagram</td>\n",
       "      <td>0</td>\n",
       "      <td>3</td>\n",
       "      <td>Decreased</td>\n",
       "      <td>NO</td>\n",
       "      <td>Watching web series</td>\n",
       "      <td>NO</td>\n",
       "      <td>NO</td>\n",
       "      <td>Friends , relatives</td>\n",
       "    </tr>\n",
       "    <tr>\n",
       "      <th>4</th>\n",
       "      <td>R5</td>\n",
       "      <td>Delhi-NCR</td>\n",
       "      <td>21</td>\n",
       "      <td>3.0</td>\n",
       "      <td>Good</td>\n",
       "      <td>Laptop/Desktop</td>\n",
       "      <td>3.0</td>\n",
       "      <td>1.0</td>\n",
       "      <td>8.0</td>\n",
       "      <td>3.0</td>\n",
       "      <td>Instagram</td>\n",
       "      <td>1</td>\n",
       "      <td>4</td>\n",
       "      <td>Remain Constant</td>\n",
       "      <td>NO</td>\n",
       "      <td>Social Media</td>\n",
       "      <td>NO</td>\n",
       "      <td>NO</td>\n",
       "      <td>Travelling</td>\n",
       "    </tr>\n",
       "    <tr>\n",
       "      <th>...</th>\n",
       "      <td>...</td>\n",
       "      <td>...</td>\n",
       "      <td>...</td>\n",
       "      <td>...</td>\n",
       "      <td>...</td>\n",
       "      <td>...</td>\n",
       "      <td>...</td>\n",
       "      <td>...</td>\n",
       "      <td>...</td>\n",
       "      <td>...</td>\n",
       "      <td>...</td>\n",
       "      <td>...</td>\n",
       "      <td>...</td>\n",
       "      <td>...</td>\n",
       "      <td>...</td>\n",
       "      <td>...</td>\n",
       "      <td>...</td>\n",
       "      <td>...</td>\n",
       "      <td>...</td>\n",
       "    </tr>\n",
       "    <tr>\n",
       "      <th>1177</th>\n",
       "      <td>R1191</td>\n",
       "      <td>Delhi-NCR</td>\n",
       "      <td>12</td>\n",
       "      <td>3.0</td>\n",
       "      <td>Good</td>\n",
       "      <td>Smartphone</td>\n",
       "      <td>4.0</td>\n",
       "      <td>1.0</td>\n",
       "      <td>8.0</td>\n",
       "      <td>1.0</td>\n",
       "      <td>Instagram</td>\n",
       "      <td>2</td>\n",
       "      <td>3</td>\n",
       "      <td>Decreased</td>\n",
       "      <td>NO</td>\n",
       "      <td>Dancing</td>\n",
       "      <td>YES</td>\n",
       "      <td>YES</td>\n",
       "      <td>Travelling</td>\n",
       "    </tr>\n",
       "    <tr>\n",
       "      <th>1178</th>\n",
       "      <td>R1192</td>\n",
       "      <td>Delhi-NCR</td>\n",
       "      <td>14</td>\n",
       "      <td>6.0</td>\n",
       "      <td>Average</td>\n",
       "      <td>Smartphone</td>\n",
       "      <td>4.0</td>\n",
       "      <td>1.0</td>\n",
       "      <td>9.0</td>\n",
       "      <td>1.0</td>\n",
       "      <td>Whatsapp</td>\n",
       "      <td>1</td>\n",
       "      <td>4</td>\n",
       "      <td>Remain Constant</td>\n",
       "      <td>NO</td>\n",
       "      <td>Listening to music</td>\n",
       "      <td>YES</td>\n",
       "      <td>YES</td>\n",
       "      <td>Friends , relatives</td>\n",
       "    </tr>\n",
       "    <tr>\n",
       "      <th>1179</th>\n",
       "      <td>R1193</td>\n",
       "      <td>Delhi-NCR</td>\n",
       "      <td>13</td>\n",
       "      <td>4.0</td>\n",
       "      <td>Average</td>\n",
       "      <td>Smartphone</td>\n",
       "      <td>0.0</td>\n",
       "      <td>0.5</td>\n",
       "      <td>8.0</td>\n",
       "      <td>3.0</td>\n",
       "      <td>Youtube</td>\n",
       "      <td>2</td>\n",
       "      <td>4</td>\n",
       "      <td>Decreased</td>\n",
       "      <td>NO</td>\n",
       "      <td>Online gaming</td>\n",
       "      <td>NO</td>\n",
       "      <td>YES</td>\n",
       "      <td>School/college</td>\n",
       "    </tr>\n",
       "    <tr>\n",
       "      <th>1180</th>\n",
       "      <td>R1194</td>\n",
       "      <td>Delhi-NCR</td>\n",
       "      <td>14</td>\n",
       "      <td>5.0</td>\n",
       "      <td>Excellent</td>\n",
       "      <td>Laptop/Desktop</td>\n",
       "      <td>3.5</td>\n",
       "      <td>1.0</td>\n",
       "      <td>8.0</td>\n",
       "      <td>0.5</td>\n",
       "      <td>Youtube</td>\n",
       "      <td>1</td>\n",
       "      <td>4</td>\n",
       "      <td>Remain Constant</td>\n",
       "      <td>NO</td>\n",
       "      <td>Reading books</td>\n",
       "      <td>YES</td>\n",
       "      <td>YES</td>\n",
       "      <td>School/college</td>\n",
       "    </tr>\n",
       "    <tr>\n",
       "      <th>1181</th>\n",
       "      <td>R1195</td>\n",
       "      <td>Delhi-NCR</td>\n",
       "      <td>13</td>\n",
       "      <td>5.0</td>\n",
       "      <td>Good</td>\n",
       "      <td>Tablet</td>\n",
       "      <td>2.0</td>\n",
       "      <td>0.5</td>\n",
       "      <td>7.0</td>\n",
       "      <td>1.0</td>\n",
       "      <td>Whatsapp</td>\n",
       "      <td>1</td>\n",
       "      <td>3</td>\n",
       "      <td>Remain Constant</td>\n",
       "      <td>NO</td>\n",
       "      <td>Talking</td>\n",
       "      <td>YES</td>\n",
       "      <td>YES</td>\n",
       "      <td>School/college</td>\n",
       "    </tr>\n",
       "  </tbody>\n",
       "</table>\n",
       "<p>1182 rows × 19 columns</p>\n",
       "</div>"
      ],
      "text/plain": [
       "         ID   location  Age  Online Cl. online cl. exp.  Medium for cl.  \\\n",
       "0        R1  Delhi-NCR   21         2.0            Good  Laptop/Desktop   \n",
       "1        R2  Delhi-NCR   21         0.0       Excellent      Smartphone   \n",
       "2        R3  Delhi-NCR   20         7.0       Very poor  Laptop/Desktop   \n",
       "3        R4  Delhi-NCR   20         3.0       Very poor      Smartphone   \n",
       "4        R5  Delhi-NCR   21         3.0            Good  Laptop/Desktop   \n",
       "...     ...        ...  ...         ...             ...             ...   \n",
       "1177  R1191  Delhi-NCR   12         3.0            Good      Smartphone   \n",
       "1178  R1192  Delhi-NCR   14         6.0         Average      Smartphone   \n",
       "1179  R1193  Delhi-NCR   13         4.0         Average      Smartphone   \n",
       "1180  R1194  Delhi-NCR   14         5.0       Excellent  Laptop/Desktop   \n",
       "1181  R1195  Delhi-NCR   13         5.0            Good          Tablet   \n",
       "\n",
       "      self.st  fitness  sleep  social media Social media plat. TV  Meals no.  \\\n",
       "0         4.0      0.0    7.0           3.0           Linkedin  1          4   \n",
       "1         0.0      2.0   10.0           3.0            Youtube  0          3   \n",
       "2         3.0      0.0    6.0           2.0           Linkedin  0          3   \n",
       "3         2.0      1.0    6.0           5.0          Instagram  0          3   \n",
       "4         3.0      1.0    8.0           3.0          Instagram  1          4   \n",
       "...       ...      ...    ...           ...                ... ..        ...   \n",
       "1177      4.0      1.0    8.0           1.0          Instagram  2          3   \n",
       "1178      4.0      1.0    9.0           1.0           Whatsapp  1          4   \n",
       "1179      0.0      0.5    8.0           3.0            Youtube  2          4   \n",
       "1180      3.5      1.0    8.0           0.5            Youtube  1          4   \n",
       "1181      2.0      0.5    7.0           1.0           Whatsapp  1          3   \n",
       "\n",
       "               Weight Health issue                  Stress busters  \\\n",
       "0           Increased           NO                         Cooking   \n",
       "1           Decreased           NO  Scrolling through social media   \n",
       "2     Remain Constant           NO              Listening to music   \n",
       "3           Decreased           NO             Watching web series   \n",
       "4     Remain Constant           NO                    Social Media   \n",
       "...               ...          ...                             ...   \n",
       "1177        Decreased           NO                         Dancing   \n",
       "1178  Remain Constant           NO              Listening to music   \n",
       "1179        Decreased           NO                   Online gaming   \n",
       "1180  Remain Constant           NO                   Reading books   \n",
       "1181  Remain Constant           NO                         Talking   \n",
       "\n",
       "     Time utilized  \\\n",
       "0              YES   \n",
       "1              YES   \n",
       "2               NO   \n",
       "3               NO   \n",
       "4               NO   \n",
       "...            ...   \n",
       "1177           YES   \n",
       "1178           YES   \n",
       "1179            NO   \n",
       "1180           YES   \n",
       "1181           YES   \n",
       "\n",
       "     Do you find yourself more connected with your family, close friends , relatives  ?  \\\n",
       "0                                                   YES                                   \n",
       "1                                                    NO                                   \n",
       "2                                                   YES                                   \n",
       "3                                                    NO                                   \n",
       "4                                                    NO                                   \n",
       "...                                                 ...                                   \n",
       "1177                                                YES                                   \n",
       "1178                                                YES                                   \n",
       "1179                                                YES                                   \n",
       "1180                                                YES                                   \n",
       "1181                                                YES                                   \n",
       "\n",
       "              miss the most  \n",
       "0            School/college  \n",
       "1     Roaming around freely  \n",
       "2                Travelling  \n",
       "3       Friends , relatives  \n",
       "4                Travelling  \n",
       "...                     ...  \n",
       "1177             Travelling  \n",
       "1178    Friends , relatives  \n",
       "1179         School/college  \n",
       "1180         School/college  \n",
       "1181         School/college  \n",
       "\n",
       "[1182 rows x 19 columns]"
      ]
     },
     "execution_count": 5,
     "metadata": {},
     "output_type": "execute_result"
    }
   ],
   "source": [
    "df1"
   ]
  },
  {
   "cell_type": "markdown",
   "metadata": {},
   "source": [
    "### check whether there is null values to handle or not"
   ]
  },
  {
   "cell_type": "code",
   "execution_count": 6,
   "metadata": {},
   "outputs": [
    {
     "data": {
      "text/plain": [
       "ID                                                                                     0\n",
       "Region of residence                                                                    0\n",
       "Age of Subject                                                                         0\n",
       "Time spent on Online Class                                                             0\n",
       "Rating of Online Class experience                                                     24\n",
       "Medium for online class                                                               51\n",
       "Time spent on self study                                                               0\n",
       "Time spent on fitness                                                                  0\n",
       "Time spent on sleep                                                                    0\n",
       "Time spent on social media                                                             0\n",
       "Prefered social media platform                                                         0\n",
       "Time spent on TV                                                                       0\n",
       "Number of meals per day                                                                0\n",
       "Change in your weight                                                                  0\n",
       "Health issue during lockdown                                                           0\n",
       "Stress busters                                                                         0\n",
       "Time utilized                                                                          0\n",
       "Do you find yourself more connected with your family, close friends , relatives  ?     0\n",
       "What you miss the most                                                                 0\n",
       "dtype: int64"
      ]
     },
     "execution_count": 6,
     "metadata": {},
     "output_type": "execute_result"
    }
   ],
   "source": [
    "student.isna().sum()"
   ]
  },
  {
   "cell_type": "markdown",
   "metadata": {},
   "source": [
    "### checking the medium for online class\n"
   ]
  },
  {
   "cell_type": "code",
   "execution_count": 7,
   "metadata": {},
   "outputs": [
    {
     "data": {
      "text/plain": [
       "Laptop/Desktop    550\n",
       "Smartphone        544\n",
       "Tablet             37\n",
       "Any Gadget          5\n",
       "dtype: int64"
      ]
     },
     "execution_count": 7,
     "metadata": {},
     "output_type": "execute_result"
    }
   ],
   "source": [
    "df1['Medium for cl.'].str.split('or',expand=True).stack().str.strip().value_counts()"
   ]
  },
  {
   "cell_type": "code",
   "execution_count": 8,
   "metadata": {},
   "outputs": [
    {
     "data": {
      "text/plain": [
       "<matplotlib.axes._subplots.AxesSubplot at 0x94bbdfec10>"
      ]
     },
     "execution_count": 8,
     "metadata": {},
     "output_type": "execute_result"
    },
    {
     "data": {
      "image/png": "[encoded data removed]",
      "text/plain": [
       "<Figure size 432x288 with 1 Axes>"
      ]
     },
     "metadata": {},
     "output_type": "display_data"
    }
   ],
   "source": [
    "df1['Medium for cl.'].str.split('or',expand=True).stack().str.strip().value_counts().plot.pie(explode  = (0.05,0.,0.2,0.2))"
   ]
  },
  {
   "cell_type": "markdown",
   "metadata": {},
   "source": [
    "Here we can say that most of the people prefer the desktop or smartphone"
   ]
  },
  {
   "cell_type": "markdown",
   "metadata": {},
   "source": [
    "### ratings for online class"
   ]
  },
  {
   "cell_type": "code",
   "execution_count": 37,
   "metadata": {},
   "outputs": [
    {
     "data": {
      "text/plain": [
       "Very poor    413\n",
       "Average      387\n",
       "Good         230\n",
       "Excellent     98\n",
       "Poor          30\n",
       "Name: online cl. exp., dtype: int64"
      ]
     },
     "execution_count": 37,
     "metadata": {},
     "output_type": "execute_result"
    }
   ],
   "source": [
    "df1['online cl. exp.'].value_counts()"
   ]
  },
  {
   "cell_type": "code",
   "execution_count": 97,
   "metadata": {},
   "outputs": [
    {
     "data": {
      "text/plain": [
       "<matplotlib.axes._subplots.AxesSubplot at 0x7386e38dc0>"
      ]
     },
     "execution_count": 97,
     "metadata": {},
     "output_type": "execute_result"
    },
    {
     "data": {
      "image/png": "[encoded data removed]",
      "text/plain": [
       "<Figure size 432x288 with 1 Axes>"
      ]
     },
     "metadata": {
      "needs_background": "light"
     },
     "output_type": "display_data"
    }
   ],
   "source": [
    "df1['online cl. exp.'].value_counts().plot.()"
   ]
  },
  {
   "cell_type": "markdown",
   "metadata": {},
   "source": [
    "Most the people don't like online class and rate it very poor "
   ]
  },
  {
   "cell_type": "markdown",
   "metadata": {},
   "source": [
    "### checking preferred social media platform"
   ]
  },
  {
   "cell_type": "code",
   "execution_count": 39,
   "metadata": {},
   "outputs": [
    {
     "data": {
      "text/plain": [
       "instagram    352\n",
       "whatsapp     337\n",
       "youtube      314\n",
       "linkedin      61\n",
       "facebook      52\n",
       "twitter       28\n",
       "none          17\n",
       "snapchat       8\n",
       "reddit         5\n",
       "telegram       3\n",
       "talklife       1\n",
       "none           1\n",
       "omegle         1\n",
       "quora          1\n",
       "elyment        1\n",
       "Name: Social media plat., dtype: int64"
      ]
     },
     "execution_count": 39,
     "metadata": {},
     "output_type": "execute_result"
    }
   ],
   "source": [
    "df1['Social media plat.'].str.lower().value_counts()"
   ]
  },
  {
   "cell_type": "markdown",
   "metadata": {},
   "source": [
    "Here we see that most of the people prefer Instagram and than whatsapp."
   ]
  },
  {
   "cell_type": "markdown",
   "metadata": {},
   "source": [
    "### Change in weight"
   ]
  },
  {
   "cell_type": "code",
   "execution_count": 40,
   "metadata": {},
   "outputs": [
    {
     "data": {
      "text/plain": [
       "Remain Constant    535\n",
       "Increased          438\n",
       "Decreased          209\n",
       "Name: Weight, dtype: int64"
      ]
     },
     "execution_count": 40,
     "metadata": {},
     "output_type": "execute_result"
    }
   ],
   "source": [
    "df1['Weight'].value_counts()"
   ]
  },
  {
   "cell_type": "code",
   "execution_count": 41,
   "metadata": {},
   "outputs": [
    {
     "data": {
      "text/plain": [
       "<matplotlib.axes._subplots.AxesSubplot at 0x73832ed6a0>"
      ]
     },
     "execution_count": 41,
     "metadata": {},
     "output_type": "execute_result"
    },
    {
     "data": {
      "image/png": "[encoded data removed]",
      "text/plain": [
       "<Figure size 432x288 with 1 Axes>"
      ]
     },
     "metadata": {
      "needs_background": "light"
     },
     "output_type": "display_data"
    }
   ],
   "source": [
    "df1['Weight'].value_counts().plot(kind = 'bar')"
   ]
  },
  {
   "cell_type": "markdown",
   "metadata": {},
   "source": [
    "The weight of most of the people remains contant"
   ]
  },
  {
   "cell_type": "markdown",
   "metadata": {},
   "source": [
    "### checking heath issues"
   ]
  },
  {
   "cell_type": "code",
   "execution_count": 42,
   "metadata": {},
   "outputs": [
    {
     "data": {
      "text/plain": [
       "NO     1021\n",
       "YES     161\n",
       "Name: Health issue, dtype: int64"
      ]
     },
     "execution_count": 42,
     "metadata": {},
     "output_type": "execute_result"
    }
   ],
   "source": [
    "df1['Health issue'].value_counts()"
   ]
  },
  {
   "cell_type": "code",
   "execution_count": 43,
   "metadata": {},
   "outputs": [
    {
     "data": {
      "text/plain": [
       "<matplotlib.axes._subplots.AxesSubplot at 0x73830c9250>"
      ]
     },
     "execution_count": 43,
     "metadata": {},
     "output_type": "execute_result"
    },
    {
     "data": {
      "image/png": "[encoded data removed]",
      "text/plain": [
       "<Figure size 432x288 with 1 Axes>"
      ]
     },
     "metadata": {
      "needs_background": "light"
     },
     "output_type": "display_data"
    }
   ],
   "source": [
    "df1['Health issue'].value_counts().plot(kind= 'bar')"
   ]
  },
  {
   "cell_type": "markdown",
   "metadata": {},
   "source": [
    "We see that most of the people have no health issue during covid19"
   ]
  },
  {
   "cell_type": "markdown",
   "metadata": {},
   "source": [
    "### Find total number of hours spend on screen"
   ]
  },
  {
   "cell_type": "code",
   "execution_count": 44,
   "metadata": {},
   "outputs": [
    {
     "data": {
      "text/html": [
       "<div>\n",
       "<style scoped>\n",
       "    .dataframe tbody tr th:only-of-type {\n",
       "        vertical-align: middle;\n",
       "    }\n",
       "\n",
       "    .dataframe tbody tr th {\n",
       "        vertical-align: top;\n",
       "    }\n",
       "\n",
       "    .dataframe thead th {\n",
       "        text-align: right;\n",
       "    }\n",
       "</style>\n",
       "<table border=\"1\" class=\"dataframe\">\n",
       "  <thead>\n",
       "    <tr style=\"text-align: right;\">\n",
       "      <th></th>\n",
       "      <th>ID</th>\n",
       "      <th>location</th>\n",
       "      <th>Age</th>\n",
       "      <th>Online Cl.</th>\n",
       "      <th>online cl. exp.</th>\n",
       "      <th>Medium for cl.</th>\n",
       "      <th>self.st</th>\n",
       "      <th>fitness</th>\n",
       "      <th>sleep</th>\n",
       "      <th>social media</th>\n",
       "      <th>Social media plat.</th>\n",
       "      <th>TV</th>\n",
       "      <th>Meals no.</th>\n",
       "      <th>Weight</th>\n",
       "      <th>Health issue</th>\n",
       "      <th>Stress busters</th>\n",
       "      <th>Time utilized</th>\n",
       "      <th>Do you find yourself more connected with your family, close friends , relatives  ?</th>\n",
       "      <th>miss the most</th>\n",
       "    </tr>\n",
       "  </thead>\n",
       "  <tbody>\n",
       "    <tr>\n",
       "      <th>0</th>\n",
       "      <td>R1</td>\n",
       "      <td>Delhi-NCR</td>\n",
       "      <td>21</td>\n",
       "      <td>2.0</td>\n",
       "      <td>Good</td>\n",
       "      <td>Laptop/Desktop</td>\n",
       "      <td>4.0</td>\n",
       "      <td>0.0</td>\n",
       "      <td>7.0</td>\n",
       "      <td>3.0</td>\n",
       "      <td>Linkedin</td>\n",
       "      <td>1</td>\n",
       "      <td>4</td>\n",
       "      <td>Increased</td>\n",
       "      <td>NO</td>\n",
       "      <td>Cooking</td>\n",
       "      <td>YES</td>\n",
       "      <td>YES</td>\n",
       "      <td>School/college</td>\n",
       "    </tr>\n",
       "  </tbody>\n",
       "</table>\n",
       "</div>"
      ],
      "text/plain": [
       "   ID   location  Age  Online Cl. online cl. exp.  Medium for cl.  self.st  \\\n",
       "0  R1  Delhi-NCR   21         2.0            Good  Laptop/Desktop      4.0   \n",
       "\n",
       "   fitness  sleep  social media Social media plat. TV  Meals no.     Weight  \\\n",
       "0      0.0    7.0           3.0           Linkedin  1          4  Increased   \n",
       "\n",
       "  Health issue Stress busters Time utilized  \\\n",
       "0           NO        Cooking           YES   \n",
       "\n",
       "  Do you find yourself more connected with your family, close friends , relatives  ?  \\\n",
       "0                                                YES                                   \n",
       "\n",
       "    miss the most  \n",
       "0  School/college  "
      ]
     },
     "execution_count": 44,
     "metadata": {},
     "output_type": "execute_result"
    }
   ],
   "source": [
    "df1.head(1)"
   ]
  },
  {
   "cell_type": "code",
   "execution_count": 51,
   "metadata": {},
   "outputs": [],
   "source": [
    "total = df1['Online Cl.']+df1['social media']+df1['TV'].replace(\"n\", 0).replace(\"N\", 0).replace(\"No tv\", 0).replace(\" \", 0).astype(\"float\")"
   ]
  },
  {
   "cell_type": "code",
   "execution_count": 84,
   "metadata": {},
   "outputs": [
    {
     "data": {
      "text/plain": [
       "6.0     144\n",
       "7.0     141\n",
       "5.0     141\n",
       "8.0     137\n",
       "4.0     103\n",
       "9.0      74\n",
       "3.0      61\n",
       "10.0     60\n",
       "dtype: int64"
      ]
     },
     "execution_count": 84,
     "metadata": {},
     "output_type": "execute_result"
    }
   ],
   "source": [
    "total.value_counts()[:10]"
   ]
  },
  {
   "cell_type": "markdown",
   "metadata": {},
   "source": [
    "Most of the people spend 5-7 hours on screen"
   ]
  },
  {
   "cell_type": "markdown",
   "metadata": {},
   "source": [
    "###  Stress Busters"
   ]
  },
  {
   "cell_type": "code",
   "execution_count": 54,
   "metadata": {},
   "outputs": [
    {
     "data": {
      "text/plain": [
       "listening to music                  280\n",
       "online gaming                       176\n",
       "watching web series                 102\n",
       "reading books                        81\n",
       "scrolling through social media       74\n",
       "                                   ... \n",
       "talking with friends                  1\n",
       "watching orgasm releasing videos      1\n",
       "anime manga                           1\n",
       "watching movies                       1\n",
       "many among these                      1\n",
       "Length: 91, dtype: int64"
      ]
     },
     "execution_count": 54,
     "metadata": {},
     "output_type": "execute_result"
    }
   ],
   "source": [
    "d = df1['Stress busters'].str.lower().str.split(',',expand = True).stack().str.strip()\n",
    "d.str.split('and',expand=True).stack().str.strip().value_counts()"
   ]
  },
  {
   "cell_type": "markdown",
   "metadata": {},
   "source": [
    "Here we see that most of the people listen music to remove their stresses"
   ]
  },
  {
   "cell_type": "markdown",
   "metadata": {},
   "source": [
    "### Most common stress buster of the people according to their age"
   ]
  },
  {
   "cell_type": "code",
   "execution_count": 64,
   "metadata": {},
   "outputs": [],
   "source": [
    "d = df1.groupby('Age')['Stress busters'].apply(lambda x: x.str.split(\",\", expand=True).stack().str.split(\"and\", expand=True).stack().str.strip().value_counts(sort=True, ascending=False))"
   ]
  },
  {
   "cell_type": "code",
   "execution_count": 66,
   "metadata": {},
   "outputs": [
    {
     "data": {
      "text/plain": [
       "Age                    \n",
       "59   Sleep                 1\n",
       "52   Reading               1\n",
       "50   Listening to music    1\n",
       "46   Cooking               1\n",
       "45   Meditation            1\n",
       "                          ..\n",
       "9    Online gaming         1\n",
       "     Listening to music    1\n",
       "8    Sleeping              1\n",
       "     Dancing               1\n",
       "7    Online gaming         1\n",
       "Name: Stress busters, Length: 382, dtype: int64"
      ]
     },
     "execution_count": 66,
     "metadata": {},
     "output_type": "execute_result"
    }
   ],
   "source": [
    "d.sort_index(ascending=False)"
   ]
  },
  {
   "cell_type": "markdown",
   "metadata": {},
   "source": [
    "### number of people connected to their family or not "
   ]
  },
  {
   "cell_type": "code",
   "execution_count": 87,
   "metadata": {},
   "outputs": [
    {
     "data": {
      "text/plain": [
       "YES    831\n",
       "NO     351\n",
       "Name: Do you find yourself more connected with your family, close friends , relatives  ?, dtype: int64"
      ]
     },
     "execution_count": 87,
     "metadata": {},
     "output_type": "execute_result"
    }
   ],
   "source": [
    "df1['Do you find yourself more connected with your family, close friends , relatives  ?'].value_counts()"
   ]
  },
  {
   "cell_type": "markdown",
   "metadata": {},
   "source": [
    "### Number of person who are not find connected to their family and miss them"
   ]
  },
  {
   "cell_type": "code",
   "execution_count": 75,
   "metadata": {},
   "outputs": [
    {
     "data": {
      "text/plain": [
       "0"
      ]
     },
     "execution_count": 75,
     "metadata": {},
     "output_type": "execute_result"
    }
   ],
   "source": [
    "(df1[df1['Do you find yourself more connected with your family, close friends , relatives  ?']=='NO']['miss the most'].str.lower().str.split(\",\", expand=True).stack().str.strip().str.contains(\"family\")).sum()"
   ]
  },
  {
   "cell_type": "markdown",
   "metadata": {},
   "source": [
    "Here we see that the person who are not connected to their family don't miss them "
   ]
  },
  {
   "cell_type": "markdown",
   "metadata": {},
   "source": [
    "### The person who spend more time on screen sleep more or less"
   ]
  },
  {
   "cell_type": "code",
   "execution_count": 79,
   "metadata": {},
   "outputs": [
    {
     "data": {
      "text/plain": [
       "8.0     233\n",
       "7.0     160\n",
       "6.0     104\n",
       "9.0      82\n",
       "10.0     58\n",
       "5.0      33\n",
       "12.0     24\n",
       "11.0     17\n",
       "13.0      5\n",
       "4.0       3\n",
       "7.8       1\n",
       "8.3       1\n",
       "8.5       1\n",
       "6.5       1\n",
       "Name: sleep, dtype: int64"
      ]
     },
     "execution_count": 79,
     "metadata": {},
     "output_type": "execute_result"
    }
   ],
   "source": [
    "screen = df1['Online Cl.']+df1['social media']+df1['TV'].replace(\"n\", np.nan).replace(\"N\", np.nan).replace(\"No tv\", np.nan).replace(\" \", np.nan).astype(\"float\")\n",
    "df1[screen >= screen.median()]['sleep'].value_counts()"
   ]
  },
  {
   "cell_type": "markdown",
   "metadata": {},
   "source": [
    "People who spend more time on screen sleep appox 8 hours  "
   ]
  },
  {
   "cell_type": "markdown",
   "metadata": {},
   "source": [
    "### students spending time on self study time"
   ]
  },
  {
   "cell_type": "code",
   "execution_count": 81,
   "metadata": {},
   "outputs": [
    {
     "data": {
      "text/plain": [
       "609"
      ]
     },
     "execution_count": 81,
     "metadata": {},
     "output_type": "execute_result"
    }
   ],
   "source": [
    "(df1['self.st'] > df1['social media']).sum() "
   ]
  },
  {
   "cell_type": "markdown",
   "metadata": {},
   "source": [
    "### number of students spending time on social media time"
   ]
  },
  {
   "cell_type": "code",
   "execution_count": 82,
   "metadata": {},
   "outputs": [
    {
     "data": {
      "text/plain": [
       "573"
      ]
     },
     "execution_count": 82,
     "metadata": {},
     "output_type": "execute_result"
    }
   ],
   "source": [
    "df1['self.st'].count() - (df1['self.st'] > df1['social media']).sum()"
   ]
  },
  {
   "cell_type": "markdown",
   "metadata": {},
   "source": [
    "Here we see that people most of the people spend their time on Self study intead of social media"
   ]
  },
  {
   "cell_type": "markdown",
   "metadata": {},
   "source": [
    "# Summary"
   ]
  },
  {
   "cell_type": "markdown",
   "metadata": {},
   "source": [
    "If we had to conclude the dataset in the few lines, than we can say that:"
   ]
  },
  {
   "cell_type": "markdown",
   "metadata": {},
   "source": [
    "By analysis this dataset, we see that most of the people prefer instagram and than whatsapp. During covid 19 most of the people don't face any health issue and people spend their time by taking their class, self studies and on social media. Most of the people are find connected to the thier family and relatives  "
   ]
  },
  {
   "cell_type": "markdown",
   "metadata": {},
   "source": [
    "###  Vaibhav Agrawal\n",
    "Thank You"
   ]
  },
  {
   "cell_type": "code",
   "execution_count": null,
   "metadata": {},
   "outputs": [],
   "source": []
  }
 ],
 "metadata": {
  "kernelspec": {
   "display_name": "Python 3",
   "language": "python",
   "name": "python3"
  },
  "language_info": {
   "codemirror_mode": {
    "name": "ipython",
    "version": 3
   },
   "file_extension": ".py",
   "mimetype": "text/x-python",
   "name": "python",
   "nbconvert_exporter": "python",
   "pygments_lexer": "ipython3",
   "version": "3.8.3"
  }
 },
 "nbformat": 4,
 "nbformat_minor": 4
}
